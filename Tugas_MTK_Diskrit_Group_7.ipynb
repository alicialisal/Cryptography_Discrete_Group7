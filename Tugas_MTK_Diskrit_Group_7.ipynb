{
  "nbformat": 4,
  "nbformat_minor": 0,
  "metadata": {
    "colab": {
      "provenance": []
    },
    "kernelspec": {
      "name": "python3",
      "display_name": "Python 3"
    },
    "language_info": {
      "name": "python"
    }
  },
  "cells": [
    {
      "cell_type": "code",
      "source": [
        "import hashlib\n",
        "\n",
        "# Function to generate binary keys B1, B2, B3, B4 from a secret key\n",
        "def generate_keys(secret_key):\n",
        "    # Hash the secret key using SHA-256 to get a fixed-length binary result\n",
        "    hashed_key = hashlib.sha256(secret_key.encode()).digest()\n",
        "    B1 = hashed_key[0]\n",
        "    B2 = hashed_key[1]\n",
        "    B3 = hashed_key[2]\n",
        "    B4 = hashed_key[3]\n",
        "    return B1, B2, B3, B4\n",
        "\n",
        "# Encryption function\n",
        "def encrypt(plaintext, B1, B2, B3, B4):\n",
        "    ciphertext = plaintext ^ B1  # XOR the plaintext with B1\n",
        "    ciphertext ^= B2  # XOR the result with B2\n",
        "    ciphertext ^= B3  # XOR the result with B3\n",
        "    ciphertext ^= B4  # XOR the result with B4\n",
        "    return ciphertext\n",
        "\n",
        "# Decryption function\n",
        "def decrypt(ciphertext, B1, B2, B3, B4):\n",
        "    decrypted_text = ciphertext ^ B4  # XOR the ciphertext with B4\n",
        "    decrypted_text ^= B3  # XOR the result with B3\n",
        "    decrypted_text ^= B2  # XOR the result with B2\n",
        "    decrypted_text ^= B1  # XOR the result with B1\n",
        "    return decrypted_text\n",
        "\n",
        "# Function to encrypt a password and convert to characters\n",
        "def encrypt_password_to_char(password, secret_key):\n",
        "    # Convert the plaintext password to its ASCII values\n",
        "    plaintexts = [ord(char) for char in password]\n",
        "\n",
        "    # Generate binary keys from the secret key\n",
        "    B1, B2, B3, B4 = generate_keys(secret_key)\n",
        "\n",
        "    # Encrypt each character of the password and convert it to a character\n",
        "    ciphertexts = [chr(encrypt(plaintext, B1, B2, B3, B4)) for plaintext in plaintexts]\n",
        "\n",
        "    return ''.join(ciphertexts), (B1, B2, B3, B4)\n",
        "\n",
        "# Function to decrypt the characters back to the original password\n",
        "def decrypt_password_from_char(ciphertext_str, keys):\n",
        "    B1, B2, B3, B4 = keys\n",
        "\n",
        "    # Convert the encrypted characters back to integers (ASCII values) and decrypt\n",
        "    decrypted_texts = [decrypt(ord(char), B1, B2, B3, B4) for char in ciphertext_str]\n",
        "\n",
        "    # Convert ASCII values back to characters\n",
        "    decrypted_password = ''.join(chr(text) for text in decrypted_texts)\n",
        "\n",
        "    return decrypted_password\n",
        "\n",
        "# Example usage\n",
        "if __name__ == \"__main__\":\n",
        "    # User inputs password and secret key\n",
        "    password = input(\"Enter the password: \")\n",
        "    secret_key = 'hiddenKey'  # Example secret key\n",
        "\n",
        "    # Encrypt the password and convert to characters\n",
        "    encrypted_password, keys = encrypt_password_to_char(password, secret_key)\n",
        "    print(f\"Encrypted password (as characters): {encrypted_password}\")\n",
        "\n",
        "    # Decrypt the password from characters\n",
        "    decrypted_password = decrypt_password_from_char(encrypted_password, keys)\n",
        "    print(f\"Decrypted password: {decrypted_password}\")"
      ],
      "metadata": {
        "colab": {
          "base_uri": "https://localhost:8080/"
        },
        "id": "mJOqInU6fTLl",
        "outputId": "a7fcdbc5-6ba8-47af-b12a-b32aebcaa197"
      },
      "execution_count": 1,
      "outputs": [
        {
          "output_type": "stream",
          "name": "stdout",
          "text": [
            "Enter the password: grouP7Pass\n",
            "Encrypted password (as characters): \u0000\u0015\b\u00127P7\u0006\u0014\u0014\n",
            "Decrypted password: grouP7Pass\n"
          ]
        }
      ]
    }
  ]
}