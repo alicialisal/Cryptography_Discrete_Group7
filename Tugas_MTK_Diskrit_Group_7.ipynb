{
  "nbformat": 4,
  "nbformat_minor": 0,
  "metadata": {
    "colab": {
      "provenance": []
    },
    "kernelspec": {
      "name": "python3",
      "display_name": "Python 3"
    },
    "language_info": {
      "name": "python"
    }
  },
  "cells": [
    {
      "cell_type": "code",
      "execution_count": 8,
      "metadata": {
        "colab": {
          "base_uri": "https://localhost:8080/"
        },
        "id": "DUa4zRxNFivH",
        "outputId": "f3332eac-584b-453c-a6a1-b9a8fff9f313"
      },
      "outputs": [
        {
          "output_type": "stream",
          "name": "stdout",
          "text": [
            "Enter the password: grouP7Pass\n",
            "Encrypted password (in binary): ['00000000', '00010101', '00001000', '00010010', '00110111', '01010000', '00110111', '00000110', '00010100', '00010100']\n",
            "Decrypted password: grouP7Pass\n"
          ]
        }
      ],
      "source": [
        "import hashlib\n",
        "\n",
        "# Function to generate binary keys B1, B2, B3, B4 from a secret key using hash\n",
        "def generate_keys(secret_key):\n",
        "    hashed_key = hashlib.sha256(secret_key.encode('utf-8')).digest()  # Hash the secret key using UTF-8 encoding\n",
        "    #print(f\"Hashed key (in bytes): {list(hashed_key)}\")  # Debug\n",
        "    B1 = hashed_key[0]  # Use the first 8 bits for B1\n",
        "    B2 = hashed_key[1]  # Use the second 8 bits for B2\n",
        "    B3 = hashed_key[2]  # Use the third 8 bits for B3\n",
        "    B4 = hashed_key[3]  # Use the fourth 8 bits for B4\n",
        "    return B1, B2, B3, B4\n",
        "\n",
        "# Encryption function\n",
        "def encrypt(plaintext, B1, B2, B3, B4):\n",
        "    ciphertext = plaintext ^ B1  # XOR the plaintext with B1\n",
        "    ciphertext ^= B2  # XOR the result with B2\n",
        "    ciphertext ^= B3  # XOR the result with B3\n",
        "    ciphertext ^= B4  # XOR the result with B4\n",
        "    return ciphertext\n",
        "\n",
        "# Decryption function\n",
        "def decrypt(ciphertext, B1, B2, B3, B4):\n",
        "    decrypted_text = ciphertext ^ B4  # XOR the ciphertext with B4\n",
        "    decrypted_text ^= B3  # XOR the result with B3\n",
        "    decrypted_text ^= B2  # XOR the result with B2\n",
        "    decrypted_text ^= B1  # XOR the result with B1\n",
        "    return decrypted_text\n",
        "\n",
        "# Function to encrypt and decrypt a password\n",
        "def encrypt_password(password, secret_key):\n",
        "    # Convert the plaintext password to its ASCII values\n",
        "    plaintexts = [ord(char) for char in password]\n",
        "\n",
        "    # Generate binary keys from the secret key\n",
        "    B1, B2, B3, B4 = generate_keys(secret_key)\n",
        "\n",
        "    # Encrypt each character of the password and convert it to binary\n",
        "    ciphertexts = [bin(encrypt(plaintext, B1, B2, B3, B4))[2:].zfill(8) for plaintext in plaintexts]\n",
        "\n",
        "    return ciphertexts, (B1, B2, B3, B4)\n",
        "\n",
        "def decrypt_password(ciphertexts, keys):\n",
        "    B1, B2, B3, B4 = keys\n",
        "\n",
        "    # Convert binary ciphertexts back to integers and decrypt each one\n",
        "    decrypted_texts = [decrypt(int(ciphertext, 2), B1, B2, B3, B4) for ciphertext in ciphertexts]\n",
        "\n",
        "    # Convert ASCII values back to characters\n",
        "    decrypted_password = ''.join(chr(text) for text in decrypted_texts)\n",
        "\n",
        "    return decrypted_password\n",
        "\n",
        "# Example usage\n",
        "if __name__ == \"__main__\":\n",
        "    # User inputs password and secret key\n",
        "    password = input(\"Enter the password: \") #grouP7Pass\n",
        "    secret_key = 'hiddenKey'\n",
        "\n",
        "    # Encrypt the password\n",
        "    encrypted_password, keys = encrypt_password(password, secret_key)\n",
        "    print(f\"Encrypted password (in binary): {encrypted_password}\")\n",
        "\n",
        "    # Decrypt the password\n",
        "    decrypted_password = decrypt_password(encrypted_password, keys)\n",
        "    print(f\"Decrypted password: {decrypted_password}\")\n"
      ]
    },
    {
      "cell_type": "code",
      "source": [
        "!python --version"
      ],
      "metadata": {
        "colab": {
          "base_uri": "https://localhost:8080/"
        },
        "id": "mJOqInU6fTLl",
        "outputId": "708ff76e-f48e-4cc7-8622-684c4026e681"
      },
      "execution_count": 6,
      "outputs": [
        {
          "output_type": "stream",
          "name": "stdout",
          "text": [
            "Python 3.10.12\n"
          ]
        }
      ]
    }
  ]
}